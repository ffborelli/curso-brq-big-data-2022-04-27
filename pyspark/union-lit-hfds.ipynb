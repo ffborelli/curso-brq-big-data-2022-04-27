{
 "cells": [
  {
   "cell_type": "code",
   "execution_count": 1,
   "id": "da5f1097",
   "metadata": {},
   "outputs": [],
   "source": [
    "# configura os nós de um cluster (nesse caso estamos rodando standalone)\n",
    "from pyspark.sql import SparkSession"
   ]
  },
  {
   "cell_type": "code",
   "execution_count": 2,
   "id": "6ae76030",
   "metadata": {},
   "outputs": [],
   "source": [
    "# configura os nós de um cluster (nesse caso estamos rodando standalone)\n",
    "spark = SparkSession.builder.appName(\"union-pyspark\").getOrCreate();"
   ]
  },
  {
   "cell_type": "code",
   "execution_count": 3,
   "id": "5171089e",
   "metadata": {},
   "outputs": [],
   "source": [
    "# lendo os dados de um CSV e permitindo que o Spark infira o tipo de dados. Também informamos que o arquivo contém um header\n",
    "dfABT = spark.read.csv('ABT.csv', inferSchema=True, header=True)"
   ]
  },
  {
   "cell_type": "code",
   "execution_count": 4,
   "id": "9218c5b4",
   "metadata": {},
   "outputs": [],
   "source": [
    "# lendo os dados de um CSV e permitindo que o Spark infira o tipo de dados. Também informamos que o arquivo contém um header\n",
    "dfAAN = spark.read.csv('AAN.csv', inferSchema=True, header=True)"
   ]
  },
  {
   "cell_type": "code",
   "execution_count": 6,
   "id": "7ae83aab",
   "metadata": {},
   "outputs": [
    {
     "name": "stdout",
     "output_type": "stream",
     "text": [
      "+----------+------+-----------------+-----------------+------------------+------------------+------------------+\n",
      "|      date|volume|             open|             high|               low|             close|          adjclose|\n",
      "+----------+------+-----------------+-----------------+------------------+------------------+------------------+\n",
      "|2020-07-02|413000|46.79999923706055|47.41999816894531|44.540000915527344| 44.72999954223633| 44.72999954223633|\n",
      "|2020-07-01|597900|45.16999816894531|46.56999969482422| 44.36000061035156|45.290000915527344|45.290000915527344|\n",
      "|2020-06-30|622200|45.91999816894531|             46.5| 45.04999923706055|45.400001525878906|45.400001525878906|\n",
      "+----------+------+-----------------+-----------------+------------------+------------------+------------------+\n",
      "only showing top 3 rows\n",
      "\n"
     ]
    }
   ],
   "source": [
    "dfAAN.show(3)"
   ]
  },
  {
   "cell_type": "code",
   "execution_count": 7,
   "id": "fceccee8",
   "metadata": {},
   "outputs": [],
   "source": [
    "from pyspark.sql import DataFrame"
   ]
  },
  {
   "cell_type": "code",
   "execution_count": 9,
   "id": "04bad936",
   "metadata": {},
   "outputs": [],
   "source": [
    "dfUnionAll = DataFrame.unionAll(dfABT,dfAAN)"
   ]
  },
  {
   "cell_type": "code",
   "execution_count": 10,
   "id": "61f49c26",
   "metadata": {},
   "outputs": [
    {
     "name": "stdout",
     "output_type": "stream",
     "text": [
      "+----------+-------+----------------+-----------------+-----------------+-----------------+-----------------+\n",
      "|      date| volume|            open|             high|              low|            close|         adjclose|\n",
      "+----------+-------+----------------+-----------------+-----------------+-----------------+-----------------+\n",
      "|2020-07-02|3845300|            92.5|93.05999755859375|91.93000030517578| 92.2300033569336| 92.2300033569336|\n",
      "|2020-07-01|3389600|91.9800033569336| 91.9800033569336|90.43000030517578|91.63999938964844|91.63999938964844|\n",
      "|2020-06-30|5220900|           88.75| 91.9000015258789|88.44000244140625|91.43000030517578|91.43000030517578|\n",
      "+----------+-------+----------------+-----------------+-----------------+-----------------+-----------------+\n",
      "only showing top 3 rows\n",
      "\n"
     ]
    }
   ],
   "source": [
    "dfUnionAll.show(3)"
   ]
  },
  {
   "cell_type": "code",
   "execution_count": 12,
   "id": "ba40d600",
   "metadata": {
    "scrolled": true
   },
   "outputs": [
    {
     "name": "stdout",
     "output_type": "stream",
     "text": [
      "root\n",
      " |-- date: string (nullable = true)\n",
      " |-- volume: integer (nullable = true)\n",
      " |-- open: double (nullable = true)\n",
      " |-- high: double (nullable = true)\n",
      " |-- low: double (nullable = true)\n",
      " |-- close: double (nullable = true)\n",
      " |-- adjclose: double (nullable = true)\n",
      "\n"
     ]
    }
   ],
   "source": [
    "# monstrando o schema do arquivo que importamos \n",
    "dfUnionAll.printSchema()"
   ]
  },
  {
   "cell_type": "code",
   "execution_count": 16,
   "id": "685a0593",
   "metadata": {},
   "outputs": [],
   "source": [
    "#para colocar valores fixos dentro de uma coluna\n",
    "from pyspark.sql.functions import lit"
   ]
  },
  {
   "cell_type": "code",
   "execution_count": 49,
   "id": "ab10aef7",
   "metadata": {},
   "outputs": [],
   "source": [
    "#adicionando uma nova coluna dentro da DataFrame\n",
    "dfABTSymbol = dfABT.withColumn('symbol', lit('ABT') )"
   ]
  },
  {
   "cell_type": "code",
   "execution_count": 19,
   "id": "a5711241",
   "metadata": {},
   "outputs": [
    {
     "name": "stdout",
     "output_type": "stream",
     "text": [
      "+------+\n",
      "|symbol|\n",
      "+------+\n",
      "|   ABT|\n",
      "|   ABT|\n",
      "|   ABT|\n",
      "+------+\n",
      "only showing top 3 rows\n",
      "\n"
     ]
    }
   ],
   "source": [
    "#verificando se o símbolo (symbol) foi inserido com sucesso\n",
    "dfABTSymbol.select ('symbol').show(3)"
   ]
  },
  {
   "cell_type": "code",
   "execution_count": null,
   "id": "bc29d28f",
   "metadata": {},
   "outputs": [],
   "source": [
    "#lendo um arquivo do HDFS\n",
    "fromHDFS = spark.read.format(\"csv\").option(\"header\", \"true\").load(\"hdfs://namenode:8020/user/big-data/covid_19_data.csv\")\n",
    "fromHDFS.drop('Last Update').write.parquet(\"hdfs://namenode:8020/user/big-data/bkp-covid.parquet\");\n"
   ]
  },
  {
   "cell_type": "code",
   "execution_count": null,
   "id": "1537a77a",
   "metadata": {},
   "outputs": [],
   "source": [
    "#escrevendo um arquivo do HDFS\n",
    "fromHDFS.drop('Last Update').write.parquet(\"hdfs://namenode:8020/user/big-data/bkp-covid.parquet\");"
   ]
  }
 ],
 "metadata": {
  "kernelspec": {
   "display_name": "Python 3",
   "language": "python",
   "name": "python3"
  },
  "language_info": {
   "codemirror_mode": {
    "name": "ipython",
    "version": 3
   },
   "file_extension": ".py",
   "mimetype": "text/x-python",
   "name": "python",
   "nbconvert_exporter": "python",
   "pygments_lexer": "ipython3",
   "version": "3.9.4"
  }
 },
 "nbformat": 4,
 "nbformat_minor": 5
}
